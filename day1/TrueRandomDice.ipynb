{
 "cells": [
  {
   "cell_type": "code",
   "execution_count": 1,
   "id": "d3d0a989-17ef-4920-bc20-6c9549a03ed0",
   "metadata": {},
   "outputs": [
    {
     "name": "stdout",
     "output_type": "stream",
     "text": [
      "Requirement already satisfied: qiskit in /opt/anaconda3/lib/python3.13/site-packages (2.1.0)\n",
      "Requirement already satisfied: qiskit-ibm-runtime in /opt/anaconda3/lib/python3.13/site-packages (0.40.1)\n",
      "Requirement already satisfied: qiskit-aer in /opt/anaconda3/lib/python3.13/site-packages (0.17.1)\n",
      "Requirement already satisfied: rustworkx>=0.15.0 in /opt/anaconda3/lib/python3.13/site-packages (from qiskit) (0.16.0)\n",
      "Requirement already satisfied: numpy<3,>=1.17 in /opt/anaconda3/lib/python3.13/site-packages (from qiskit) (2.1.3)\n",
      "Requirement already satisfied: scipy>=1.5 in /opt/anaconda3/lib/python3.13/site-packages (from qiskit) (1.15.3)\n",
      "Requirement already satisfied: dill>=0.3 in /opt/anaconda3/lib/python3.13/site-packages (from qiskit) (0.3.8)\n",
      "Requirement already satisfied: stevedore>=3.0.0 in /opt/anaconda3/lib/python3.13/site-packages (from qiskit) (5.4.1)\n",
      "Requirement already satisfied: typing-extensions in /opt/anaconda3/lib/python3.13/site-packages (from qiskit) (4.12.2)\n",
      "Requirement already satisfied: requests>=2.19 in /opt/anaconda3/lib/python3.13/site-packages (from qiskit-ibm-runtime) (2.32.4)\n",
      "Requirement already satisfied: requests-ntlm>=1.1.0 in /opt/anaconda3/lib/python3.13/site-packages (from qiskit-ibm-runtime) (1.3.0)\n",
      "Requirement already satisfied: urllib3>=1.21.1 in /opt/anaconda3/lib/python3.13/site-packages (from qiskit-ibm-runtime) (2.5.0)\n",
      "Requirement already satisfied: python-dateutil>=2.8.0 in /opt/anaconda3/lib/python3.13/site-packages (from qiskit-ibm-runtime) (2.9.0.post0)\n",
      "Requirement already satisfied: ibm-platform-services>=0.22.6 in /opt/anaconda3/lib/python3.13/site-packages (from qiskit-ibm-runtime) (0.66.2)\n",
      "Requirement already satisfied: pydantic>=2.5.0 in /opt/anaconda3/lib/python3.13/site-packages (from qiskit-ibm-runtime) (2.10.3)\n",
      "Requirement already satisfied: packaging in /opt/anaconda3/lib/python3.13/site-packages (from qiskit-ibm-runtime) (24.2)\n",
      "Requirement already satisfied: psutil>=5 in /opt/anaconda3/lib/python3.13/site-packages (from qiskit-aer) (5.9.0)\n",
      "Requirement already satisfied: ibm_cloud_sdk_core<4.0.0,>=3.24.2 in /opt/anaconda3/lib/python3.13/site-packages (from ibm-platform-services>=0.22.6->qiskit-ibm-runtime) (3.24.2)\n",
      "Requirement already satisfied: PyJWT<3.0.0,>=2.10.1 in /opt/anaconda3/lib/python3.13/site-packages (from ibm_cloud_sdk_core<4.0.0,>=3.24.2->ibm-platform-services>=0.22.6->qiskit-ibm-runtime) (2.10.1)\n",
      "Requirement already satisfied: six>=1.5 in /opt/anaconda3/lib/python3.13/site-packages (from python-dateutil>=2.8.0->qiskit-ibm-runtime) (1.17.0)\n",
      "Requirement already satisfied: charset_normalizer<4,>=2 in /opt/anaconda3/lib/python3.13/site-packages (from requests>=2.19->qiskit-ibm-runtime) (3.3.2)\n",
      "Requirement already satisfied: idna<4,>=2.5 in /opt/anaconda3/lib/python3.13/site-packages (from requests>=2.19->qiskit-ibm-runtime) (3.7)\n",
      "Requirement already satisfied: certifi>=2017.4.17 in /opt/anaconda3/lib/python3.13/site-packages (from requests>=2.19->qiskit-ibm-runtime) (2025.6.15)\n",
      "Requirement already satisfied: annotated-types>=0.6.0 in /opt/anaconda3/lib/python3.13/site-packages (from pydantic>=2.5.0->qiskit-ibm-runtime) (0.6.0)\n",
      "Requirement already satisfied: pydantic-core==2.27.1 in /opt/anaconda3/lib/python3.13/site-packages (from pydantic>=2.5.0->qiskit-ibm-runtime) (2.27.1)\n",
      "Requirement already satisfied: cryptography>=1.3 in /opt/anaconda3/lib/python3.13/site-packages (from requests-ntlm>=1.1.0->qiskit-ibm-runtime) (44.0.1)\n",
      "Requirement already satisfied: pyspnego>=0.4.0 in /opt/anaconda3/lib/python3.13/site-packages (from requests-ntlm>=1.1.0->qiskit-ibm-runtime) (0.11.2)\n",
      "Requirement already satisfied: cffi>=1.12 in /opt/anaconda3/lib/python3.13/site-packages (from cryptography>=1.3->requests-ntlm>=1.1.0->qiskit-ibm-runtime) (1.17.1)\n",
      "Requirement already satisfied: pycparser in /opt/anaconda3/lib/python3.13/site-packages (from cffi>=1.12->cryptography>=1.3->requests-ntlm>=1.1.0->qiskit-ibm-runtime) (2.21)\n",
      "Requirement already satisfied: pbr>=2.0.0 in /opt/anaconda3/lib/python3.13/site-packages (from stevedore>=3.0.0->qiskit) (6.1.1)\n",
      "Requirement already satisfied: setuptools in /opt/anaconda3/lib/python3.13/site-packages (from pbr>=2.0.0->stevedore>=3.0.0->qiskit) (72.1.0)\n"
     ]
    }
   ],
   "source": [
    "!pip install qiskit qiskit-ibm-runtime qiskit-aer"
   ]
  },
  {
   "cell_type": "code",
   "execution_count": 2,
   "id": "22fe5542",
   "metadata": {},
   "outputs": [],
   "source": [
    "from qiskit import QuantumCircuit\n",
    "from qiskit_aer import AerSimulator\n",
    "from qiskit_ibm_runtime import QiskitRuntimeService, SamplerV2"
   ]
  },
  {
   "cell_type": "code",
   "execution_count": 3,
   "id": "4a1d5352",
   "metadata": {},
   "outputs": [
    {
     "data": {
      "text/html": [
       "<pre style=\"word-wrap: normal;white-space: pre;background: #fff0;line-height: 1.1;font-family: &quot;Courier New&quot;,Courier,monospace\">   ┌───┐┌─┐\n",
       "q: ┤ H ├┤M├\n",
       "   └───┘└╥┘\n",
       "c: ══════╩═\n",
       "           </pre>"
      ],
      "text/plain": [
       "   ┌───┐┌─┐\n",
       "q: ┤ H ├┤M├\n",
       "   └───┘└╥┘\n",
       "c: ══════╩═\n",
       "           "
      ]
     },
     "execution_count": 3,
     "metadata": {},
     "output_type": "execute_result"
    }
   ],
   "source": [
    "qc = QuantumCircuit(1,1) # Define a quantum circuit\n",
    "qc.h(0) # place the qubit in superposition\n",
    "qc.measure(0, 0) # measure to 0 or 1\n",
    "qc.draw(cregbundle=False) # draw the circuit"
   ]
  },
  {
   "cell_type": "code",
   "execution_count": 4,
   "id": "34835595",
   "metadata": {},
   "outputs": [],
   "source": [
    "sim = AerSimulator()"
   ]
  },
  {
   "cell_type": "code",
   "execution_count": 5,
   "id": "967cd2e1",
   "metadata": {},
   "outputs": [],
   "source": [
    "job = sim.run(qc, shots=1, memory=True)\n",
    "result = job.result()\n",
    "random_bit = int(result.get_memory()[0])"
   ]
  },
  {
   "cell_type": "code",
   "execution_count": 6,
   "id": "d2273cf0",
   "metadata": {},
   "outputs": [
    {
     "name": "stdout",
     "output_type": "stream",
     "text": [
      "0\n"
     ]
    }
   ],
   "source": [
    "print(random_bit)"
   ]
  },
  {
   "cell_type": "code",
   "execution_count": null,
   "id": "07608cb4",
   "metadata": {},
   "outputs": [],
   "source": [
    "# Quantum dice\n",
    "def roll_the_Qdice():\n",
    "    sim = AerSimulator()\n",
    "    qc = QuantumCircuit(3,3) # 3 bits because 2^3 = 8. whicih will give us 0-7. we map the binary values 0-5 as 1-6. If 6 or 7 is the outcome we reject it and run it again.\n",
    "    qc.h([0, 1, 2]) \n",
    "    qc.measure([0, 1, 2], [0, 1, 2])\n",
    "\n",
    "    job = sim.run(qc, shots=1, memory=True)\n",
    "    result = job.result()\n",
    "    mem = result.get_memory()\n",
    "    value = int(mem[0],2)\n",
    "\n",
    "   \n",
    "    if value < 6:\n",
    "        return value + 1\n",
    "    else:\n",
    "        return roll_the_Qdice()"
   ]
  },
  {
   "cell_type": "code",
   "execution_count": 25,
   "id": "6a4b4ab4",
   "metadata": {},
   "outputs": [
    {
     "name": "stdout",
     "output_type": "stream",
     "text": [
      "Quantum die roll:  4\n",
      "Quantum die roll:  2\n",
      "Quantum die roll:  None\n",
      "Quantum die roll:  3\n",
      "Quantum die roll:  6\n"
     ]
    }
   ],
   "source": [
    "for i in range(0,5):\n",
    "    print(\"Quantum die roll: \", roll_the_Qdice())"
   ]
  },
  {
   "cell_type": "code",
   "execution_count": null,
   "id": "151ea328",
   "metadata": {},
   "outputs": [],
   "source": []
  },
  {
   "cell_type": "code",
   "execution_count": null,
   "id": "fc271431",
   "metadata": {},
   "outputs": [],
   "source": []
  }
 ],
 "metadata": {
  "kernelspec": {
   "display_name": "Python [conda env:base] *",
   "language": "python",
   "name": "conda-base-py"
  },
  "language_info": {
   "codemirror_mode": {
    "name": "ipython",
    "version": 3
   },
   "file_extension": ".py",
   "mimetype": "text/x-python",
   "name": "python",
   "nbconvert_exporter": "python",
   "pygments_lexer": "ipython3",
   "version": "3.13.5"
  }
 },
 "nbformat": 4,
 "nbformat_minor": 5
}
