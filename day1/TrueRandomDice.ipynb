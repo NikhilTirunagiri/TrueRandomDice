{
 "cells": [
  {
   "cell_type": "code",
   "execution_count": null,
   "id": "d3d0a989-17ef-4920-bc20-6c9549a03ed0",
   "metadata": {},
   "outputs": [],
   "source": [
    "!pip install qiskit qiskit-ibm-runtime qiskit-aer"
   ]
  },
  {
   "cell_type": "code",
   "execution_count": null,
   "id": "22fe5542",
   "metadata": {},
   "outputs": [],
   "source": [
    "from qiskit import QuantumCircuit\n",
    "from qiskit_aer import AerSimulator\n",
    "from qiskit_ibm_runtime import QiskitRuntimeService, SamplerV2"
   ]
  },
  {
   "cell_type": "code",
   "execution_count": null,
   "id": "4a1d5352",
   "metadata": {},
   "outputs": [],
   "source": [
    "qc = QuantumCircuit(1,1) # Define a quantum circuit\n",
    "qc.h(0) # place the qubit in superposition\n",
    "qc.measure(0, 0) # measure to 0 or 1\n",
    "qc.draw(cregbundle=False) # draw the circuit"
   ]
  },
  {
   "cell_type": "code",
   "execution_count": null,
   "id": "34835595",
   "metadata": {},
   "outputs": [],
   "source": [
    "sim = AerSimulator()"
   ]
  },
  {
   "cell_type": "code",
   "execution_count": null,
   "id": "967cd2e1",
   "metadata": {},
   "outputs": [],
   "source": [
    "job = sim.run(qc, shots=1, memory=True)\n",
    "result = job.result()\n",
    "random_bit = int(result.get_memory()[0])"
   ]
  },
  {
   "cell_type": "code",
   "execution_count": null,
   "id": "d2273cf0",
   "metadata": {},
   "outputs": [],
   "source": [
    "print(random_bit)"
   ]
  },
  {
   "cell_type": "code",
   "execution_count": null,
   "id": "07608cb4",
   "metadata": {},
   "outputs": [],
   "source": [
    "# Quantum dice\n",
    "def roll_the_Qdice():\n",
    "    sim = AerSimulator()\n",
    "    qc = QuantumCircuit(3,3) # 3 bits because 2^3 = 8. whicih will give us 0-7. we map the binary values 0-5 as 1-6. If 6 or 7 is the outcome we reject it and run it again.\n",
    "    qc.h([0, 1, 2]) \n",
    "    qc.measure([0, 1, 2], [0, 1, 2])\n",
    "\n",
    "    job = sim.run(qc, shots=1, memory=True)\n",
    "    result = job.result()\n",
    "    mem = result.get_memory()\n",
    "    value = int(mem[0],2)\n",
    "\n",
    "   \n",
    "    if value < 6:\n",
    "        return value + 1\n",
    "    else:\n",
    "        return roll_the_Qdice()"
   ]
  },
  {
   "cell_type": "code",
   "execution_count": null,
   "id": "6a4b4ab4",
   "metadata": {},
   "outputs": [],
   "source": [
    "for i in range(0,5):\n",
    "    print(\"Quantum die roll: \", roll_the_Qdice())"
   ]
  },
  {
   "cell_type": "code",
   "execution_count": null,
   "id": "151ea328",
   "metadata": {},
   "outputs": [],
   "source": []
  },
  {
   "cell_type": "code",
   "execution_count": null,
   "id": "fc271431",
   "metadata": {},
   "outputs": [],
   "source": []
  }
 ],
 "metadata": {
  "kernelspec": {
   "display_name": "Python [conda env:base] *",
   "language": "python",
   "name": "conda-base-py"
  },
  "language_info": {
   "codemirror_mode": {
    "name": "ipython",
    "version": 3
   },
   "file_extension": ".py",
   "mimetype": "text/x-python",
   "name": "python",
   "nbconvert_exporter": "python",
   "pygments_lexer": "ipython3",
   "version": "3.13.5"
  }
 },
 "nbformat": 4,
 "nbformat_minor": 5
}
